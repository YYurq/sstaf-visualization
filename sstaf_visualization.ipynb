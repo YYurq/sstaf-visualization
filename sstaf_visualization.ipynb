# Ячейка 1: Установка зависимостей (если нужно)
!pip install numpy matplotlib mpmath scipy plotly ipywidgets

# Ячейка 2: Импорт библиотек и определение функций
import numpy as np
import matplotlib.pyplot as plt
from mpmath import zeta
import plotly.graph_objects as go
from ipywidgets import interact, FloatSlider
import plotly.io as pio
pio.renderers.default = 'iframe'  # Для корректного отображения в Binder

# Параметры
T = 20  # Интервал времени
dt = 0.2  # Шаг по времени
N = int(2 * T / dt)  # Количество точек
t = np.linspace(-T, T, N)  # Массив времени
t_vals = np.linspace(-T, T, 50)  # Массив для анализа следа

# Пример мнимых частей нетривиальных нулей (из LMFDB)
gamma_n = [14.1347, 21.0220]  # Первые два нуля

# Функции из статьи
def psi(s, u, epsilon):
    # Вычисление функции ψ(s, u)
    denom = (s - 0.5 - 1j*u)**2 * (1 - s - 0.5 - 1j*u)**2 + epsilon**2
    return 1 / denom

def zeta_squared(t):
    # Модуль квадрата дзета-функции на критической линии
    return abs(zeta(0.5 + 1j*t))**2

def exp_term(s, epsilon):
    # Экспоненциальный множитель для регуляризации
    u = np.linspace(-T, T, N)
    integrand = [psi(s, ui, epsilon) * zeta_squared(ui) for ui in u]
    return np.exp(-np.trapz(integrand, u))

def kernel(ti, tj, epsilon):
    # Ядро оператора \(\hat{H}\)
    s = 0.5 + 1j*(ti - tj)
    return exp_term(s, epsilon) * zeta(s)

def compute_kernel(epsilon):
    # Вычисление матрицы ядра
    K = np.zeros((N, N), dtype=complex)
    for i in range(N):
        for j in range(N):
            K[i, j] = kernel(t[i], t[j], epsilon)
    return K

def compute_trace(K):
    # След оператора \(\hat{H}\)
    return np.trace(K)

def selberg_sum(t, gamma_n):
    # Сумма косинусов для формулы Сельберга
    return sum(np.cos(t * gamma) for gamma in gamma_n)

# Ячейка 3: Интерактивная визуализация
def plot_sstaf_proof(epsilon=1e-4):
    print(f"Визуализация для ε = {epsilon}")

    # Визуализация 1: Регуляризация \(\mathcal{R}\zeta(s)\)
    print("Шаг 1: Регуляризация \(\mathcal{R}\zeta(s)\)")
    t_imag = np.linspace(-20, 20, 100)
    s_vals = 0.5 + 1j * t_imag
    R_zeta = [exp_term(s, epsilon) * zeta(s) for s in s_vals]
    fig_R = go.Figure()
    fig_R.add_trace(go.Scatter(x=t_imag, y=np.abs(R_zeta), mode='lines', name='|\(\mathcal{R}\zeta(\frac{1}{2} + it)\)|'))
    fig_R.update_layout(
        title='Модуль \(\mathcal{R}\zeta(s)\) на критической линии',
        xaxis_title='t (мнимая часть)',
        yaxis_title='|\(\mathcal{R}\zeta\)|'
    )
    fig_R.show()

    # Визуализация 2: Тепловая карта ядра
    print("Шаг 2: Ядро оператора \(\hat{H}\)")
    K = compute_kernel(epsilon)
    fig1 = go.Figure(data=go.Heatmap(z=np.abs(K), x=t, y=t, colorscale='Hot'))
    fig1.update_layout(
        title='Модуль ядра |K(t, t\')|',
        xaxis_title='t\'',
        yaxis_title='t'
    )
    fig1.show()

    # Визуализация 3: Собственные значения
    print("Шаг 3: Собственные значения и нули")
    eigenvalues = np.linalg.eigvalsh(K)
    fig2, ax2 = plt.subplots()
    ax2.scatter(np.arange(len(eigenvalues)), np.abs(eigenvalues), s=10)
    for gamma in gamma_n:
        ax2.axhline(y=gamma, color='r', linestyle='--', alpha=0.5)
    ax2.set_title('Собственные значения \(\hat{H}\)')
    ax2.set_xlabel('Индекс')
    ax2.set_ylabel('|λ|')
    ax2.set_yscale('log')
    ax2.set_ylim(1e-6, 1e2)
    plt.show()

    # Визуализация 4: Спектральная симметрия
    print("Шаг 4: Спектральная симметрия")
    sigma_vals = np.linspace(0, 1, 50)
    gamma = 14.1347  # Пример мнимой части
    integrals_rho = [np.trapz([psi(sigma + 1j*gamma, u, epsilon) * zeta_squared(u) for u in t], t) for sigma in sigma_vals]
    integrals_1_minus_rho = [np.trapz([psi(1 - sigma + 1j*gamma, u, epsilon) * zeta_squared(u) for u in t], t) for sigma in sigma_vals]
    fig_sym = go.Figure()
    fig_sym.add_trace(go.Scatter(x=sigma_vals, y=integrals_rho, mode='lines', name='Интеграл для \(\rho\)'))
    fig_sym.add_trace(go.Scatter(x=sigma_vals, y=integrals_1_minus_rho, mode='lines', name='Интеграл для \(1-\rho\)'))
    fig_sym.add_vline(x=0.5, line_dash="dash", line_color="red", annotation_text="Критическая линия")
    fig_sym.update_layout(
        title='Симметрия интегралов',
        xaxis_title='σ (действительная часть)',
        yaxis_title='Значение интеграла'
    )
    fig_sym.show()

    # Визуализация 5: Анализ следа
    print("Шаг 5: Анализ следа")
    trace_vals = [compute_trace(K) for _ in t_vals]
    selberg_vals = [selberg_sum(ti, gamma_n) for ti in t_vals]
    fig3 = go.Figure()
    fig3.add_trace(go.Scatter(x=t_vals, y=trace_vals, mode='lines', name='След (\(\hat{H}\))'))
    fig3.add_trace(go.Scatter(x=t_vals, y=selberg_vals, mode='lines', name='Σ cos(t γ_n)'))
    fig3.update_layout(
        title='Анализ следа',
        xaxis_title='t',
        yaxis_title='Значение'
    )
    fig3.show()

# Создание интерактивного слайдера
interact(
    plot_sstaf_proof,
    epsilon=FloatSlider(min=1e-5, max=1e-3, step=1e-5, value=1e-4, description='ε')
)
